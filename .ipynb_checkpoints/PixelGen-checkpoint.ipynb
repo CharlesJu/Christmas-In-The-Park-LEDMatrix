{
 "cells": [
  {
   "cell_type": "code",
   "execution_count": 131,
   "metadata": {
    "collapsed": true
   },
   "outputs": [],
   "source": [
    "import numpy as np\n",
    "import cv2\n",
    "import pprint as pp\n",
    "import glob\n",
    "import os\n",
    "import ujson"
   ]
  },
  {
   "cell_type": "code",
   "execution_count": 133,
   "metadata": {},
   "outputs": [
    {
     "data": {
      "text/plain": [
       "['C:\\\\Users\\\\charl\\\\Google Drive SCU\\\\Y1Q1\\\\Random Stuff\\\\LEDBoard\\\\happy.jpg',\n",
       " 'C:\\\\Users\\\\charl\\\\Google Drive SCU\\\\Y1Q1\\\\Random Stuff\\\\LEDBoard\\\\horse.jpg',\n",
       " 'C:\\\\Users\\\\charl\\\\Google Drive SCU\\\\Y1Q1\\\\Random Stuff\\\\LEDBoard\\\\Merry Christmas.jpg',\n",
       " 'C:\\\\Users\\\\charl\\\\Google Drive SCU\\\\Y1Q1\\\\Random Stuff\\\\LEDBoard\\\\SCU Engineering smol.jpg']"
      ]
     },
     "execution_count": 133,
     "metadata": {},
     "output_type": "execute_result"
    }
   ],
   "source": [
    "input_folder = \"C:\\\\Users\\\\charl\\\\Google Drive SCU\\\\Y1Q1\\\\Random Stuff\\\\LEDBoard\\\\\"\n",
    "files = glob.glob(os.path.join(input_folder, \"*.jpg\"))\n",
    "files\n"
   ]
  },
  {
   "cell_type": "code",
   "execution_count": 136,
   "metadata": {},
   "outputs": [],
   "source": [
    "img_dict = {}\n",
    "images = []\n",
    "for f in files:\n",
    "    blank_image = np.zeros((32,64,3), np.uint8)\n",
    "    image = cv2.imread(f)\n",
    "    height, width, _ = image.shape\n",
    "    resized_width = int(32*width/height)\n",
    "    resized = cv2.resize(image, (resized_width, 32))\n",
    "    x_offset = int((64-resized_width)/2)\n",
    "    y_offset = 0\n",
    "    blank_image[y_offset:x_offset+resized.shape[0], x_offset:x_offset+resized_width] = resized\n",
    "    cv2.imwrite(f+\".png\", blank_image)\n",
    "    for i in range(0, 32):\n",
    "        for j in range(0, 64):\n",
    "            img_pixels.append([int(blank_image[i, j][0]), int(blank_image[i, j][1]), int(blank_image[i, j][2])])\n",
    "    img_dict[os.path.basename(os.path.normpath(f))] = img_pixels\n",
    "    images.append(img_pixels)\n",
    "\n",
    "with open('data.json', 'w') as fp:\n",
    "    fp.write(ujson.dumps(img_dict, fp))"
   ]
  },
  {
   "cell_type": "code",
   "execution_count": null,
   "metadata": {
    "collapsed": true
   },
   "outputs": [],
   "source": []
  }
 ],
 "metadata": {
  "kernelspec": {
   "display_name": "Python 3",
   "language": "python",
   "name": "python3"
  },
  "language_info": {
   "codemirror_mode": {
    "name": "ipython",
    "version": 3
   },
   "file_extension": ".py",
   "mimetype": "text/x-python",
   "name": "python",
   "nbconvert_exporter": "python",
   "pygments_lexer": "ipython3",
   "version": "3.6.1"
  }
 },
 "nbformat": 4,
 "nbformat_minor": 2
}
